{
 "cells": [
  {
   "cell_type": "markdown",
   "metadata": {},
   "source": [
    "# &#9678; WebScraping Project - Dark Souls Enemies"
   ]
  },
  {
   "cell_type": "markdown",
   "metadata": {},
   "source": [
    "** In this project we are going to retrieving data from [Dark Souls Remastered Wiki Page](https://darksouls.wiki.fextralife.com/Dark+Souls+Wiki), particularly from the [Enemies' Section](https://darksouls.wiki.fextralife.com/Enemies). We're going to be taking each enemie's name, Stats (HP, Physical Defense, Slash Defense, Poison Resistance, Bleed Resistance, etc..), as well as the multiple variations of each one in order to create a DataFrame containing all this info.! **"
   ]
  },
  {
   "cell_type": "code",
   "execution_count": 167,
   "metadata": {},
   "outputs": [],
   "source": [
    "import requests  # Web Request\n",
    "import pandas as pd # For Dataframes!\n",
    "from bs4 import BeautifulSoup # HTML Parser"
   ]
  },
  {
   "cell_type": "markdown",
   "metadata": {},
   "source": [
    "** Let's begin by taking a single enemy example **"
   ]
  },
  {
   "cell_type": "code",
   "execution_count": 168,
   "metadata": {},
   "outputs": [],
   "source": [
    "url = 'https://darksouls.wiki.fextralife.com/Torch+Hollows'\n",
    "\n",
    "html = requests.get(url)"
   ]
  },
  {
   "cell_type": "markdown",
   "metadata": {},
   "source": [
    "** Creating our BeautifulSoup object: **"
   ]
  },
  {
   "cell_type": "code",
   "execution_count": 169,
   "metadata": {},
   "outputs": [],
   "source": [
    "bs_obj = BeautifulSoup(html.text, \"lxml\")"
   ]
  },
  {
   "cell_type": "markdown",
   "metadata": {},
   "source": [
    "** Now that we got the raw html of the [Torch Hollows Enemy Page](https://darksouls.wiki.fextralife.com/Torch+Hollows) we can start locating where our desired information resides in it. Inside the page we can see on the right a box containing some information that we need from the enemy: their defenses and immunities.**"
   ]
  },
  {
   "cell_type": "markdown",
   "metadata": {},
   "source": [
    "![infobox](infobox_TH.png)"
   ]
  },
  {
   "cell_type": "markdown",
   "metadata": {},
   "source": [
    "** However, if we scroll down to the 'Locations' section, we see that there are multiple variations of the character, depending on what point (location) of the game you encounter it, each version has its own HP and Souls associated to it.** "
   ]
  },
  {
   "cell_type": "markdown",
   "metadata": {},
   "source": [
    "![locations](locations_TH.png)"
   ]
  },
  {
   "cell_type": "markdown",
   "metadata": {},
   "source": [
    " ** In order to go around this, the solution is be to create two separate tables: the first being the Enemy table, which will contain only a single record for each character with the respective information about Defenses and immunites, the primary key will be the name of the enemy itself, since there will be no redundancy in this dataframe. The second table will provide us the multiple variations of the enemies, the name of the character will be a Foreign Key, since there will be redundancy. At the end, we will be able to join both tables into a <u>single</u> frame **"
   ]
  },
  {
   "cell_type": "markdown",
   "metadata": {},
   "source": [
    "# Let's get to it!"
   ]
  },
  {
   "cell_type": "markdown",
   "metadata": {},
   "source": [
    "*\"Chosen Undead. Your fate is… to succeed the Great Lord Gwyn. So that you may link the Fire, cast away the Dark, and undo the curse of the Undead.\"*"
   ]
  },
  {
   "cell_type": "markdown",
   "metadata": {},
   "source": [
    "----"
   ]
  },
  {
   "cell_type": "markdown",
   "metadata": {},
   "source": [
    "##  &#9678; 1. Enemies Table"
   ]
  },
  {
   "cell_type": "markdown",
   "metadata": {},
   "source": [
    "** Let's locate the stats table inside our html... **"
   ]
  },
  {
   "cell_type": "code",
   "execution_count": 170,
   "metadata": {},
   "outputs": [],
   "source": [
    "wiki_table = bs_obj.find(\"div\", {\"id\": \"infobox\"}).find_next().find_next() # Currently on  'Wiki_table'"
   ]
  },
  {
   "cell_type": "markdown",
   "metadata": {},
   "source": [
    "** Now inside the table, let's proceed by locating our defenses and resistances stats: **"
   ]
  },
  {
   "cell_type": "code",
   "execution_count": 171,
   "metadata": {},
   "outputs": [],
   "source": [
    "Defenses_raw = wiki_table.find_all(\"tr\")[3]\n",
    "\n",
    "Resistances_raw = wiki_table.find_all(\"tr\")[5]"
   ]
  },
  {
   "cell_type": "code",
   "execution_count": 172,
   "metadata": {},
   "outputs": [
    {
     "data": {
      "text/plain": [
       "<tr>\n",
       "<td>77 ~ 159</td>\n",
       "<td>77 ~ 159</td>\n",
       "<td>77 ~ 159</td>\n",
       "<td>77 ~ 159</td>\n",
       "<td>58 ~ 119</td>\n",
       "</tr>"
      ]
     },
     "execution_count": 172,
     "metadata": {},
     "output_type": "execute_result"
    }
   ],
   "source": [
    "Defenses_raw"
   ]
  },
  {
   "cell_type": "code",
   "execution_count": 173,
   "metadata": {},
   "outputs": [
    {
     "data": {
      "text/plain": [
       "['77 ~ 159', '77 ~ 159', '77 ~ 159', '77 ~ 159', '58 ~ 119']"
      ]
     },
     "execution_count": 173,
     "metadata": {},
     "output_type": "execute_result"
    }
   ],
   "source": [
    "Defenses = [i.text for i in Defenses_raw.find_all('td')]\n",
    "Defenses"
   ]
  },
  {
   "cell_type": "code",
   "execution_count": 174,
   "metadata": {},
   "outputs": [
    {
     "data": {
      "text/plain": [
       "['54 ~ 111', '58 ~ 119', 'E', 'E', 'E']"
      ]
     },
     "execution_count": 174,
     "metadata": {},
     "output_type": "execute_result"
    }
   ],
   "source": [
    "Resistances = [i.text for i in Resistances_raw.find_all('td')]\n",
    "Resistances"
   ]
  },
  {
   "cell_type": "markdown",
   "metadata": {},
   "source": [
    "** Let's also get the enemy's name: **"
   ]
  },
  {
   "cell_type": "code",
   "execution_count": 175,
   "metadata": {},
   "outputs": [
    {
     "data": {
      "text/plain": [
       "'Torch Hollows'"
      ]
     },
     "execution_count": 175,
     "metadata": {},
     "output_type": "execute_result"
    }
   ],
   "source": [
    "Name = url.split('/')[-1].replace('+',' ')\n",
    "Name"
   ]
  },
  {
   "cell_type": "markdown",
   "metadata": {},
   "source": [
    "____"
   ]
  },
  {
   "cell_type": "markdown",
   "metadata": {},
   "source": [
    "## Ok! Now, that we've successfully retrieve data from a single enemy, let's build a function using our previous commands so we can generalize for other instances later on!"
   ]
  },
  {
   "cell_type": "code",
   "execution_count": 176,
   "metadata": {},
   "outputs": [],
   "source": [
    "def GetStats(url):\n",
    "    html = requests.get(url)  \n",
    "    bs_obj = BeautifulSoup(html.text, \"lxml\")  # creating BS object\n",
    "    # Locating our wiki table\n",
    "    wiki_table = bs_obj.find(\"div\", {\"id\": \"infobox\"}).find_next().find_next() # Currently on  'Wiki_table'\n",
    "    # Getting the stats\n",
    "    Defenses_raw = wiki_table.find_all(\"tr\")[3]\n",
    "    Resistances_raw = wiki_table.find_all(\"tr\")[5]\n",
    "    Defenses = [i.text.strip().replace(u'\\xa0', u' ') for i in Defenses_raw.find_all('td')]\n",
    "    Resistances = [i.text.strip().replace(u'\\xa0', u' ') for i in Resistances_raw.find_all('td')]\n",
    "    Name = url.split('/')[-1].replace('+',' ')\n",
    "    \n",
    "    #result = [Name,Defenses,Resistances]\n",
    "    return Name,Defenses,Resistances"
   ]
  },
  {
   "cell_type": "markdown",
   "metadata": {},
   "source": [
    "** Alright, now we have a function that takes the enemy's url and returns a list containing the enemy's stats (Name, Defenses, Resistances). However, let's make this even better by crafting a function that returns a DataFrame instead **"
   ]
  },
  {
   "cell_type": "code",
   "execution_count": 177,
   "metadata": {},
   "outputs": [],
   "source": [
    "Name = GetStats('https://darksouls.wiki.fextralife.com/Torch+Hollows')[0]\n",
    "Defenses = GetStats('https://darksouls.wiki.fextralife.com/Torch+Hollows')[1]\n",
    "Resistances = GetStats('https://darksouls.wiki.fextralife.com/Torch+Hollows')[2]"
   ]
  },
  {
   "cell_type": "markdown",
   "metadata": {},
   "source": [
    "** Let's create two lists, one containing the enemy stats (attributes) and another containing the respective labels for these attributes **"
   ]
  },
  {
   "cell_type": "code",
   "execution_count": 178,
   "metadata": {},
   "outputs": [],
   "source": [
    "Enemy_Attr = [Name] +Defenses + Resistances "
   ]
  },
  {
   "cell_type": "code",
   "execution_count": 179,
   "metadata": {},
   "outputs": [],
   "source": [
    "Enemy_Attr_Labels =['Name','Physical Defense','Strike Defense','Slash Defense','Thrust Defense','Magic Defense',\n",
    " 'Fire Defense','Lightning Defense','Poison Resistance','Toxic Resistance','Bleed Resistance']"
   ]
  },
  {
   "cell_type": "markdown",
   "metadata": {},
   "source": [
    "** Now, let's par up the two lists into a dictionary object. **"
   ]
  },
  {
   "cell_type": "code",
   "execution_count": 180,
   "metadata": {},
   "outputs": [],
   "source": [
    "dictionary = dict(zip(Enemy_Attr_Labels, Enemy_Attr))"
   ]
  },
  {
   "cell_type": "markdown",
   "metadata": {},
   "source": [
    "** Finally, we will cast our dictionary into the DataFrame function! **"
   ]
  },
  {
   "cell_type": "code",
   "execution_count": 181,
   "metadata": {},
   "outputs": [
    {
     "data": {
      "text/html": [
       "<div>\n",
       "<style scoped>\n",
       "    .dataframe tbody tr th:only-of-type {\n",
       "        vertical-align: middle;\n",
       "    }\n",
       "\n",
       "    .dataframe tbody tr th {\n",
       "        vertical-align: top;\n",
       "    }\n",
       "\n",
       "    .dataframe thead th {\n",
       "        text-align: right;\n",
       "    }\n",
       "</style>\n",
       "<table border=\"1\" class=\"dataframe\">\n",
       "  <thead>\n",
       "    <tr style=\"text-align: right;\">\n",
       "      <th></th>\n",
       "      <th>Name</th>\n",
       "      <th>Physical Defense</th>\n",
       "      <th>Strike Defense</th>\n",
       "      <th>Slash Defense</th>\n",
       "      <th>Thrust Defense</th>\n",
       "      <th>Magic Defense</th>\n",
       "      <th>Fire Defense</th>\n",
       "      <th>Lightning Defense</th>\n",
       "      <th>Poison Resistance</th>\n",
       "      <th>Toxic Resistance</th>\n",
       "      <th>Bleed Resistance</th>\n",
       "    </tr>\n",
       "  </thead>\n",
       "  <tbody>\n",
       "    <tr>\n",
       "      <th>0</th>\n",
       "      <td>Torch Hollows</td>\n",
       "      <td>77 ~ 159</td>\n",
       "      <td>77 ~ 159</td>\n",
       "      <td>77 ~ 159</td>\n",
       "      <td>77 ~ 159</td>\n",
       "      <td>58 ~ 119</td>\n",
       "      <td>54 ~ 111</td>\n",
       "      <td>58 ~ 119</td>\n",
       "      <td>E</td>\n",
       "      <td>E</td>\n",
       "      <td>E</td>\n",
       "    </tr>\n",
       "  </tbody>\n",
       "</table>\n",
       "</div>"
      ],
      "text/plain": [
       "            Name Physical Defense Strike Defense Slash Defense Thrust Defense  \\\n",
       "0  Torch Hollows         77 ~ 159       77 ~ 159      77 ~ 159       77 ~ 159   \n",
       "\n",
       "  Magic Defense Fire Defense Lightning Defense Poison Resistance  \\\n",
       "0      58 ~ 119     54 ~ 111          58 ~ 119                 E   \n",
       "\n",
       "  Toxic Resistance Bleed Resistance  \n",
       "0                E                E  "
      ]
     },
     "execution_count": 181,
     "metadata": {},
     "output_type": "execute_result"
    }
   ],
   "source": [
    "pd.DataFrame(dictionary,index=[0])"
   ]
  },
  {
   "cell_type": "markdown",
   "metadata": {},
   "source": [
    "____"
   ]
  },
  {
   "cell_type": "markdown",
   "metadata": {},
   "source": [
    "## Once again, let's converge the above lines of code into a single function!"
   ]
  },
  {
   "cell_type": "code",
   "execution_count": 182,
   "metadata": {},
   "outputs": [],
   "source": [
    "def GetEnemy(url):\n",
    "    Name = GetStats(url)[0]\n",
    "    Defenses = GetStats(url)[1]\n",
    "    Resistances = GetStats(url)[2]\n",
    "    Enemy_Attr = [Name] +Defenses + Resistances \n",
    "    Enemy_Attr_Labels =['Name','Physical Defense','Strike Defense','Slash Defense','Thrust Defense','Magic Defense',\n",
    "     'Fire Defense','Lightning Defense','Poison Resistance','Toxic Resistance','Bleed Resistance']\n",
    "    dictionary = dict(zip(Enemy_Attr_Labels, Enemy_Attr))\n",
    "    return pd.DataFrame(dictionary,index=[0])"
   ]
  },
  {
   "cell_type": "code",
   "execution_count": 183,
   "metadata": {},
   "outputs": [
    {
     "data": {
      "text/html": [
       "<div>\n",
       "<style scoped>\n",
       "    .dataframe tbody tr th:only-of-type {\n",
       "        vertical-align: middle;\n",
       "    }\n",
       "\n",
       "    .dataframe tbody tr th {\n",
       "        vertical-align: top;\n",
       "    }\n",
       "\n",
       "    .dataframe thead th {\n",
       "        text-align: right;\n",
       "    }\n",
       "</style>\n",
       "<table border=\"1\" class=\"dataframe\">\n",
       "  <thead>\n",
       "    <tr style=\"text-align: right;\">\n",
       "      <th></th>\n",
       "      <th>Name</th>\n",
       "      <th>Physical Defense</th>\n",
       "      <th>Strike Defense</th>\n",
       "      <th>Slash Defense</th>\n",
       "      <th>Thrust Defense</th>\n",
       "      <th>Magic Defense</th>\n",
       "      <th>Fire Defense</th>\n",
       "      <th>Lightning Defense</th>\n",
       "      <th>Poison Resistance</th>\n",
       "      <th>Toxic Resistance</th>\n",
       "      <th>Bleed Resistance</th>\n",
       "    </tr>\n",
       "  </thead>\n",
       "  <tbody>\n",
       "    <tr>\n",
       "      <th>0</th>\n",
       "      <td>Torch Hollows</td>\n",
       "      <td>77 ~ 159</td>\n",
       "      <td>77 ~ 159</td>\n",
       "      <td>77 ~ 159</td>\n",
       "      <td>77 ~ 159</td>\n",
       "      <td>58 ~ 119</td>\n",
       "      <td>54 ~ 111</td>\n",
       "      <td>58 ~ 119</td>\n",
       "      <td>E</td>\n",
       "      <td>E</td>\n",
       "      <td>E</td>\n",
       "    </tr>\n",
       "  </tbody>\n",
       "</table>\n",
       "</div>"
      ],
      "text/plain": [
       "            Name Physical Defense Strike Defense Slash Defense Thrust Defense  \\\n",
       "0  Torch Hollows         77 ~ 159       77 ~ 159      77 ~ 159       77 ~ 159   \n",
       "\n",
       "  Magic Defense Fire Defense Lightning Defense Poison Resistance  \\\n",
       "0      58 ~ 119     54 ~ 111          58 ~ 119                 E   \n",
       "\n",
       "  Toxic Resistance Bleed Resistance  \n",
       "0                E                E  "
      ]
     },
     "execution_count": 183,
     "metadata": {},
     "output_type": "execute_result"
    }
   ],
   "source": [
    "#Example:\n",
    "GetEnemy('https://darksouls.wiki.fextralife.com/Torch+Hollows')"
   ]
  },
  {
   "cell_type": "code",
   "execution_count": 184,
   "metadata": {
    "scrolled": true
   },
   "outputs": [
    {
     "data": {
      "text/html": [
       "<div>\n",
       "<style scoped>\n",
       "    .dataframe tbody tr th:only-of-type {\n",
       "        vertical-align: middle;\n",
       "    }\n",
       "\n",
       "    .dataframe tbody tr th {\n",
       "        vertical-align: top;\n",
       "    }\n",
       "\n",
       "    .dataframe thead th {\n",
       "        text-align: right;\n",
       "    }\n",
       "</style>\n",
       "<table border=\"1\" class=\"dataframe\">\n",
       "  <thead>\n",
       "    <tr style=\"text-align: right;\">\n",
       "      <th></th>\n",
       "      <th>Name</th>\n",
       "      <th>Physical Defense</th>\n",
       "      <th>Strike Defense</th>\n",
       "      <th>Slash Defense</th>\n",
       "      <th>Thrust Defense</th>\n",
       "      <th>Magic Defense</th>\n",
       "      <th>Fire Defense</th>\n",
       "      <th>Lightning Defense</th>\n",
       "      <th>Poison Resistance</th>\n",
       "      <th>Toxic Resistance</th>\n",
       "      <th>Bleed Resistance</th>\n",
       "    </tr>\n",
       "  </thead>\n",
       "  <tbody>\n",
       "    <tr>\n",
       "      <th>0</th>\n",
       "      <td>Moonlight Butterfly</td>\n",
       "      <td>184 ~ 306</td>\n",
       "      <td>184 ~306</td>\n",
       "      <td>184 ~306</td>\n",
       "      <td>184 ~306</td>\n",
       "      <td>230 ~ 384</td>\n",
       "      <td>110 ~183</td>\n",
       "      <td>148 ~246</td>\n",
       "      <td>S</td>\n",
       "      <td>S</td>\n",
       "      <td>S</td>\n",
       "    </tr>\n",
       "  </tbody>\n",
       "</table>\n",
       "</div>"
      ],
      "text/plain": [
       "                  Name Physical Defense Strike Defense Slash Defense  \\\n",
       "0  Moonlight Butterfly        184 ~ 306       184 ~306      184 ~306   \n",
       "\n",
       "  Thrust Defense Magic Defense Fire Defense Lightning Defense  \\\n",
       "0       184 ~306     230 ~ 384     110 ~183          148 ~246   \n",
       "\n",
       "  Poison Resistance Toxic Resistance Bleed Resistance  \n",
       "0                 S                S                S  "
      ]
     },
     "execution_count": 184,
     "metadata": {},
     "output_type": "execute_result"
    }
   ],
   "source": [
    "#Example:\n",
    "GetEnemy('https://darksouls.wiki.fextralife.com/Moonlight+Butterfly')"
   ]
  },
  {
   "cell_type": "markdown",
   "metadata": {},
   "source": [
    "___"
   ]
  },
  {
   "cell_type": "markdown",
   "metadata": {},
   "source": [
    "** Cool, we've got ourselves a function that takes the URL of a enemy page and spits out a DataFrame of its stats! **"
   ]
  },
  {
   "cell_type": "markdown",
   "metadata": {},
   "source": [
    "** &#9672; We've lit our first bonfire! ** <img src=\"https://thumbs.gfycat.com/EarnestActiveAkitainu-size_restricted.gif\"  alt=\"drawing\" width=\"360\">"
   ]
  },
  {
   "cell_type": "markdown",
   "metadata": {},
   "source": [
    "*\"If you require rest, now is the time. That is, after all, what the bonfire is for.\"*"
   ]
  },
  {
   "cell_type": "markdown",
   "metadata": {},
   "source": [
    "____"
   ]
  },
  {
   "cell_type": "markdown",
   "metadata": {},
   "source": [
    "** We now need to get all the enemies' links into a single list, so we can iterate itvwith our function... **"
   ]
  },
  {
   "cell_type": "code",
   "execution_count": 185,
   "metadata": {},
   "outputs": [],
   "source": [
    "url = 'https://darksouls.wiki.fextralife.com/Enemies'  ## This is the page containing all the links we'll need\n",
    "html = requests.get(url)\n",
    "bs_obj = BeautifulSoup(html.text,'lxml')"
   ]
  },
  {
   "cell_type": "code",
   "execution_count": 186,
   "metadata": {},
   "outputs": [
    {
     "data": {
      "text/plain": [
       "[<h3 id=\"toc7\">Hollows</h3>,\n",
       " <h3 id=\"toc63\">Giants</h3>,\n",
       " <h3 id=\"toc101\">AOTA Enemies</h3>,\n",
       " <h3 id=\"toc26\">Skeletons</h3>,\n",
       " <h3>Demons</h3>,\n",
       " <h3> Other</h3>,\n",
       " <h3>  Wildlife</h3>,\n",
       " <h3 id=\"toc73\">Special/Non-respawning</h3>]"
      ]
     },
     "execution_count": 186,
     "metadata": {},
     "output_type": "execute_result"
    }
   ],
   "source": [
    "bs_obj.find_all('h3')[1:9]  ## These are all the sections within that page"
   ]
  },
  {
   "cell_type": "markdown",
   "metadata": {},
   "source": [
    "** Let's take a single section as example: **"
   ]
  },
  {
   "cell_type": "code",
   "execution_count": 187,
   "metadata": {},
   "outputs": [],
   "source": [
    "example = bs_obj.find_all('h3')[1:9][7] ## Special/Non-Respawning Section"
   ]
  },
  {
   "cell_type": "code",
   "execution_count": 188,
   "metadata": {},
   "outputs": [
    {
     "data": {
      "text/plain": [
       "['https://darksouls.wiki.fextralife.com/Crystal+Lizard',\n",
       " 'https://darksouls.wiki.fextralife.com/Parasitic+Wall+Hugger',\n",
       " 'https://darksouls.wiki.fextralife.com/Oscar+of+Astora',\n",
       " 'https://darksouls.wiki.fextralife.com/The+Black+Knight',\n",
       " 'https://darksouls.wiki.fextralife.com/Blowdart+Sniper',\n",
       " 'https://darksouls.wiki.fextralife.com/Darkmoon+Soldier',\n",
       " 'https://darksouls.wiki.fextralife.com/Possessed+Tree',\n",
       " 'https://darksouls.wiki.fextralife.com/Giant+Cat',\n",
       " 'https://darksouls.wiki.fextralife.com/Mimic',\n",
       " 'https://darksouls.wiki.fextralife.com/The+Channeler',\n",
       " 'https://darksouls.wiki.fextralife.com/Vagrants']"
      ]
     },
     "execution_count": 188,
     "metadata": {},
     "output_type": "execute_result"
    }
   ],
   "source": [
    "links_h= ['https://darksouls.wiki.fextralife.com' +e['href'] for e in example.find_next().find_all('a')]\n",
    "links_h  ## Here are the links for each enemy of this section:"
   ]
  },
  {
   "cell_type": "markdown",
   "metadata": {},
   "source": [
    "____"
   ]
  },
  {
   "cell_type": "markdown",
   "metadata": {},
   "source": [
    "## Once again, let's converge the above lines of code into a single function!"
   ]
  },
  {
   "cell_type": "code",
   "execution_count": 189,
   "metadata": {},
   "outputs": [],
   "source": [
    "def Get_All_Links(url):\n",
    "    html = requests.get(url)\n",
    "    bs_obj = BeautifulSoup(html.text,'lxml')\n",
    "    links = []\n",
    "    h3 = bs_obj.find_all('h3')[1:9]\n",
    "    for i in h3:\n",
    "        links += ['https://darksouls.wiki.fextralife.com' +j['href'] for j in i.find_next().find_all('a')]\n",
    "    return links"
   ]
  },
  {
   "cell_type": "markdown",
   "metadata": {},
   "source": [
    "___"
   ]
  },
  {
   "cell_type": "markdown",
   "metadata": {},
   "source": [
    "## Ok! Let's take a look at the functions we have so far"
   ]
  },
  {
   "cell_type": "markdown",
   "metadata": {},
   "source": [
    "** Function that takes the enemy URL and retrieves its stats **"
   ]
  },
  {
   "cell_type": "code",
   "execution_count": 190,
   "metadata": {},
   "outputs": [],
   "source": [
    "def GetStats(url):\n",
    "    html = requests.get(url)\n",
    "    bs_obj = BeautifulSoup(html.text, \"lxml\")\n",
    "    wiki_table = bs_obj.find(\"div\", {\"id\": \"infobox\"}).find_next().find_next() # Currently on  'Wiki_table'\n",
    "    Defenses_raw = wiki_table.find_all(\"tr\")[3]\n",
    "    Resistances_raw = wiki_table.find_all(\"tr\")[5]\n",
    "    Defenses = [i.text.strip().replace(u'\\xa0', u' ') for i in Defenses_raw.find_all('td')]\n",
    "    Resistances = [i.text.strip().replace(u'\\xa0', u' ') for i in Resistances_raw.find_all('td')]\n",
    "    Name = url.split('/')[-1].replace('+',' ')\n",
    "    \n",
    "    #result = [Name,Defenses,Resistances]\n",
    "    return Name,Defenses,Resistances"
   ]
  },
  {
   "cell_type": "markdown",
   "metadata": {},
   "source": [
    "** Function that takes enemy URL and spits out a DataFrame with its Stats! **"
   ]
  },
  {
   "cell_type": "code",
   "execution_count": 191,
   "metadata": {},
   "outputs": [],
   "source": [
    "def GetEnemy(url):\n",
    "    Name = GetStats(url)[0]\n",
    "    Defenses = GetStats(url)[1]\n",
    "    Resistances = GetStats(url)[2]\n",
    "    Enemy_Attr = [Name] +Defenses + Resistances \n",
    "    Enemy_Attr_Labels =['Name','Physical Defense','Strike Defense','Slash Defense','Thrust Defense','Magic Defense',\n",
    "     'Fire Defense','Lightning Defense','Poison Resistance','Toxic Resistance','Bleed Resistance']\n",
    "    dictionary = dict(zip(Enemy_Attr_Labels, Enemy_Attr))\n",
    "    return pd.DataFrame(dictionary,index=[0])"
   ]
  },
  {
   "cell_type": "markdown",
   "metadata": {},
   "source": [
    "** Function that builds a list of all links of the [Enemies Section Page](https://darksouls.wiki.fextralife.com/Enemies\"). **"
   ]
  },
  {
   "cell_type": "code",
   "execution_count": 192,
   "metadata": {},
   "outputs": [],
   "source": [
    "def Get_All_Links(url):\n",
    "    html = requests.get(url)\n",
    "    bs_obj = BeautifulSoup(html.text,'lxml')\n",
    "    links = []\n",
    "    h3 = bs_obj.find_all('h3')[1:9]\n",
    "    for i in h3:\n",
    "        links += ['https://darksouls.wiki.fextralife.com' +j['href'] for j in i.find_next().find_all('a')]\n",
    "    return links"
   ]
  },
  {
   "cell_type": "markdown",
   "metadata": {},
   "source": [
    "____"
   ]
  },
  {
   "cell_type": "markdown",
   "metadata": {},
   "source": [
    "*\"Bonfire ahead\"*"
   ]
  },
  {
   "cell_type": "markdown",
   "metadata": {},
   "source": [
    "## Let the Scraping begin!"
   ]
  },
  {
   "cell_type": "code",
   "execution_count": 193,
   "metadata": {},
   "outputs": [],
   "source": [
    "url = \"https://darksouls.wiki.fextralife.com/Enemies\"\n",
    "links = Get_All_Links(url)"
   ]
  },
  {
   "cell_type": "code",
   "execution_count": 194,
   "metadata": {
    "scrolled": true
   },
   "outputs": [],
   "source": [
    "enemies = pd.DataFrame()\n",
    "for l in links:\n",
    "    enemies = pd.concat([enemies,GetEnemy(l)],sort=False)\n",
    "    \n",
    "enemies.reset_index(drop=True,inplace=True)"
   ]
  },
  {
   "cell_type": "code",
   "execution_count": 195,
   "metadata": {
    "scrolled": true
   },
   "outputs": [
    {
     "data": {
      "text/html": [
       "<div>\n",
       "<style scoped>\n",
       "    .dataframe tbody tr th:only-of-type {\n",
       "        vertical-align: middle;\n",
       "    }\n",
       "\n",
       "    .dataframe tbody tr th {\n",
       "        vertical-align: top;\n",
       "    }\n",
       "\n",
       "    .dataframe thead th {\n",
       "        text-align: right;\n",
       "    }\n",
       "</style>\n",
       "<table border=\"1\" class=\"dataframe\">\n",
       "  <thead>\n",
       "    <tr style=\"text-align: right;\">\n",
       "      <th></th>\n",
       "      <th>Name</th>\n",
       "      <th>Physical Defense</th>\n",
       "      <th>Strike Defense</th>\n",
       "      <th>Slash Defense</th>\n",
       "      <th>Thrust Defense</th>\n",
       "      <th>Magic Defense</th>\n",
       "      <th>Fire Defense</th>\n",
       "      <th>Lightning Defense</th>\n",
       "      <th>Poison Resistance</th>\n",
       "      <th>Toxic Resistance</th>\n",
       "      <th>Bleed Resistance</th>\n",
       "    </tr>\n",
       "  </thead>\n",
       "  <tbody>\n",
       "    <tr>\n",
       "      <th>68</th>\n",
       "      <td>Giant Leech</td>\n",
       "      <td>128</td>\n",
       "      <td>128</td>\n",
       "      <td>128</td>\n",
       "      <td>128</td>\n",
       "      <td>90</td>\n",
       "      <td>101</td>\n",
       "      <td>97</td>\n",
       "      <td>A</td>\n",
       "      <td>A</td>\n",
       "      <td>D</td>\n",
       "    </tr>\n",
       "    <tr>\n",
       "      <th>69</th>\n",
       "      <td>Giant Mosquito</td>\n",
       "      <td>70</td>\n",
       "      <td>70</td>\n",
       "      <td>70</td>\n",
       "      <td>70</td>\n",
       "      <td>53</td>\n",
       "      <td>48</td>\n",
       "      <td>53</td>\n",
       "      <td>A</td>\n",
       "      <td>A</td>\n",
       "      <td>D</td>\n",
       "    </tr>\n",
       "    <tr>\n",
       "      <th>70</th>\n",
       "      <td>Cragspider</td>\n",
       "      <td>216</td>\n",
       "      <td>216</td>\n",
       "      <td>216</td>\n",
       "      <td>216</td>\n",
       "      <td>167</td>\n",
       "      <td>1188</td>\n",
       "      <td>178</td>\n",
       "      <td>C</td>\n",
       "      <td>C</td>\n",
       "      <td>C</td>\n",
       "    </tr>\n",
       "    <tr>\n",
       "      <th>71</th>\n",
       "      <td>Chaos Bug</td>\n",
       "      <td>134</td>\n",
       "      <td>134</td>\n",
       "      <td>134</td>\n",
       "      <td>134</td>\n",
       "      <td>80</td>\n",
       "      <td>672</td>\n",
       "      <td>134</td>\n",
       "      <td>D</td>\n",
       "      <td>D</td>\n",
       "      <td>D</td>\n",
       "    </tr>\n",
       "    <tr>\n",
       "      <th>72</th>\n",
       "      <td>Man Serpent</td>\n",
       "      <td>359 ~ 462</td>\n",
       "      <td>359 ~ 462</td>\n",
       "      <td>359 ~ 462</td>\n",
       "      <td>359 ~ 462</td>\n",
       "      <td>191 ~ 246</td>\n",
       "      <td>161 ~ 207</td>\n",
       "      <td>154 ~ 198</td>\n",
       "      <td>B</td>\n",
       "      <td>B</td>\n",
       "      <td>D</td>\n",
       "    </tr>\n",
       "    <tr>\n",
       "      <th>73</th>\n",
       "      <td>Serpent Mage</td>\n",
       "      <td>340 ~ 438</td>\n",
       "      <td>340 ~438</td>\n",
       "      <td>340 ~ 438</td>\n",
       "      <td>340 ~ 438</td>\n",
       "      <td>172 ~ 222</td>\n",
       "      <td>151 ~ 195</td>\n",
       "      <td>144 ~ 186</td>\n",
       "      <td>B</td>\n",
       "      <td>B</td>\n",
       "      <td>D</td>\n",
       "    </tr>\n",
       "    <tr>\n",
       "      <th>74</th>\n",
       "      <td>Burrowing Rockworm</td>\n",
       "      <td>418</td>\n",
       "      <td>418</td>\n",
       "      <td>522</td>\n",
       "      <td>418</td>\n",
       "      <td>292</td>\n",
       "      <td>835</td>\n",
       "      <td>315</td>\n",
       "      <td>D</td>\n",
       "      <td>D</td>\n",
       "      <td>A</td>\n",
       "    </tr>\n",
       "    <tr>\n",
       "      <th>75</th>\n",
       "      <td>Slimes</td>\n",
       "      <td>1500</td>\n",
       "      <td>1500</td>\n",
       "      <td>1500</td>\n",
       "      <td>1500</td>\n",
       "      <td>488</td>\n",
       "      <td>75</td>\n",
       "      <td>488</td>\n",
       "      <td>S</td>\n",
       "      <td>S</td>\n",
       "      <td>S</td>\n",
       "    </tr>\n",
       "    <tr>\n",
       "      <th>76</th>\n",
       "      <td>Moonlight Butterfly</td>\n",
       "      <td>184 ~ 306</td>\n",
       "      <td>184 ~306</td>\n",
       "      <td>184 ~306</td>\n",
       "      <td>184 ~306</td>\n",
       "      <td>230 ~ 384</td>\n",
       "      <td>110 ~183</td>\n",
       "      <td>148 ~246</td>\n",
       "      <td>S</td>\n",
       "      <td>S</td>\n",
       "      <td>S</td>\n",
       "    </tr>\n",
       "    <tr>\n",
       "      <th>77</th>\n",
       "      <td>Crystal Lizard</td>\n",
       "      <td>184</td>\n",
       "      <td>184</td>\n",
       "      <td>230</td>\n",
       "      <td>184</td>\n",
       "      <td>162</td>\n",
       "      <td>125</td>\n",
       "      <td>162</td>\n",
       "      <td>S</td>\n",
       "      <td>S</td>\n",
       "      <td>S</td>\n",
       "    </tr>\n",
       "    <tr>\n",
       "      <th>78</th>\n",
       "      <td>Parasitic Wall Hugger</td>\n",
       "      <td>246</td>\n",
       "      <td>308</td>\n",
       "      <td>185</td>\n",
       "      <td>246</td>\n",
       "      <td>147</td>\n",
       "      <td>246</td>\n",
       "      <td>147</td>\n",
       "      <td>B</td>\n",
       "      <td>B</td>\n",
       "      <td>D</td>\n",
       "    </tr>\n",
       "    <tr>\n",
       "      <th>79</th>\n",
       "      <td>Oscar of Astora</td>\n",
       "      <td>160 ~ 248</td>\n",
       "      <td>155 ~ 248</td>\n",
       "      <td>184 ~ 272</td>\n",
       "      <td>160 ~ 248</td>\n",
       "      <td>99 ~ 186</td>\n",
       "      <td>104 ~ 193</td>\n",
       "      <td>69 ~ 155</td>\n",
       "      <td>E/C</td>\n",
       "      <td>E/C</td>\n",
       "      <td>E/C</td>\n",
       "    </tr>\n",
       "    <tr>\n",
       "      <th>80</th>\n",
       "      <td>The Black Knight</td>\n",
       "      <td>281 ~298</td>\n",
       "      <td>281 ~298</td>\n",
       "      <td>281 ~298</td>\n",
       "      <td>281 ~298</td>\n",
       "      <td>198~266</td>\n",
       "      <td>221 ~295</td>\n",
       "      <td>247 ~318</td>\n",
       "      <td>B</td>\n",
       "      <td>B</td>\n",
       "      <td>A</td>\n",
       "    </tr>\n",
       "    <tr>\n",
       "      <th>81</th>\n",
       "      <td>Blowdart Sniper</td>\n",
       "      <td>185</td>\n",
       "      <td>185</td>\n",
       "      <td>185</td>\n",
       "      <td>185</td>\n",
       "      <td>172</td>\n",
       "      <td>150</td>\n",
       "      <td>172</td>\n",
       "      <td>E</td>\n",
       "      <td>E</td>\n",
       "      <td>E</td>\n",
       "    </tr>\n",
       "    <tr>\n",
       "      <th>82</th>\n",
       "      <td>Darkmoon Soldier</td>\n",
       "      <td>??</td>\n",
       "      <td>??</td>\n",
       "      <td>??</td>\n",
       "      <td>??</td>\n",
       "      <td>??</td>\n",
       "      <td>??</td>\n",
       "      <td>??</td>\n",
       "      <td>??</td>\n",
       "      <td>??</td>\n",
       "      <td>??</td>\n",
       "    </tr>\n",
       "    <tr>\n",
       "      <th>83</th>\n",
       "      <td>Possessed Tree</td>\n",
       "      <td>180</td>\n",
       "      <td>180</td>\n",
       "      <td>180</td>\n",
       "      <td>180</td>\n",
       "      <td>144</td>\n",
       "      <td>90</td>\n",
       "      <td>162</td>\n",
       "      <td>D</td>\n",
       "      <td>D</td>\n",
       "      <td>S</td>\n",
       "    </tr>\n",
       "    <tr>\n",
       "      <th>84</th>\n",
       "      <td>Giant Cat</td>\n",
       "      <td>Health *</td>\n",
       "      <td>NG: 1,465</td>\n",
       "      <td>Souls *</td>\n",
       "      <td>NG: 2,000</td>\n",
       "      <td>NaN</td>\n",
       "      <td>NaN</td>\n",
       "      <td>NaN</td>\n",
       "      <td>NaN</td>\n",
       "      <td>NaN</td>\n",
       "      <td>NaN</td>\n",
       "    </tr>\n",
       "    <tr>\n",
       "      <th>85</th>\n",
       "      <td>Mimic</td>\n",
       "      <td>231 ~ 297</td>\n",
       "      <td>231 ~ 297</td>\n",
       "      <td>231 ~ 297</td>\n",
       "      <td>231 ~ 297</td>\n",
       "      <td>161 ~ 197</td>\n",
       "      <td>137 ~177</td>\n",
       "      <td>196 ~252</td>\n",
       "      <td>A</td>\n",
       "      <td>A</td>\n",
       "      <td>A</td>\n",
       "    </tr>\n",
       "    <tr>\n",
       "      <th>86</th>\n",
       "      <td>The Channeler</td>\n",
       "      <td>Health *</td>\n",
       "      <td>NG: 181-397</td>\n",
       "      <td>Souls *</td>\n",
       "      <td>NG: 800-1,000</td>\n",
       "      <td>NaN</td>\n",
       "      <td>NaN</td>\n",
       "      <td>NaN</td>\n",
       "      <td>NaN</td>\n",
       "      <td>NaN</td>\n",
       "      <td>NaN</td>\n",
       "    </tr>\n",
       "    <tr>\n",
       "      <th>87</th>\n",
       "      <td>Vagrants</td>\n",
       "      <td>??</td>\n",
       "      <td>??</td>\n",
       "      <td>??</td>\n",
       "      <td>??</td>\n",
       "      <td>??</td>\n",
       "      <td>??</td>\n",
       "      <td>??</td>\n",
       "      <td>??</td>\n",
       "      <td>??</td>\n",
       "      <td>??</td>\n",
       "    </tr>\n",
       "  </tbody>\n",
       "</table>\n",
       "</div>"
      ],
      "text/plain": [
       "                     Name Physical Defense Strike Defense Slash Defense  \\\n",
       "68            Giant Leech              128            128           128   \n",
       "69         Giant Mosquito               70             70            70   \n",
       "70             Cragspider              216            216           216   \n",
       "71              Chaos Bug              134            134           134   \n",
       "72            Man Serpent        359 ~ 462      359 ~ 462     359 ~ 462   \n",
       "73           Serpent Mage        340 ~ 438       340 ~438     340 ~ 438   \n",
       "74     Burrowing Rockworm              418            418           522   \n",
       "75                 Slimes             1500           1500          1500   \n",
       "76    Moonlight Butterfly        184 ~ 306       184 ~306      184 ~306   \n",
       "77         Crystal Lizard              184            184           230   \n",
       "78  Parasitic Wall Hugger              246            308           185   \n",
       "79        Oscar of Astora        160 ~ 248      155 ~ 248     184 ~ 272   \n",
       "80       The Black Knight         281 ~298       281 ~298      281 ~298   \n",
       "81        Blowdart Sniper              185            185           185   \n",
       "82       Darkmoon Soldier               ??             ??            ??   \n",
       "83         Possessed Tree              180            180           180   \n",
       "84              Giant Cat         Health *      NG: 1,465       Souls *   \n",
       "85                  Mimic        231 ~ 297      231 ~ 297     231 ~ 297   \n",
       "86          The Channeler         Health *    NG: 181-397       Souls *   \n",
       "87               Vagrants               ??             ??            ??   \n",
       "\n",
       "   Thrust Defense Magic Defense Fire Defense Lightning Defense  \\\n",
       "68            128            90          101                97   \n",
       "69             70            53           48                53   \n",
       "70            216           167         1188               178   \n",
       "71            134            80          672               134   \n",
       "72      359 ~ 462     191 ~ 246    161 ~ 207         154 ~ 198   \n",
       "73      340 ~ 438     172 ~ 222    151 ~ 195         144 ~ 186   \n",
       "74            418           292          835               315   \n",
       "75           1500           488           75               488   \n",
       "76       184 ~306     230 ~ 384     110 ~183          148 ~246   \n",
       "77            184           162          125               162   \n",
       "78            246           147          246               147   \n",
       "79      160 ~ 248      99 ~ 186    104 ~ 193          69 ~ 155   \n",
       "80       281 ~298       198~266     221 ~295          247 ~318   \n",
       "81            185           172          150               172   \n",
       "82             ??            ??           ??                ??   \n",
       "83            180           144           90               162   \n",
       "84      NG: 2,000           NaN          NaN               NaN   \n",
       "85      231 ~ 297     161 ~ 197     137 ~177          196 ~252   \n",
       "86  NG: 800-1,000           NaN          NaN               NaN   \n",
       "87             ??            ??           ??                ??   \n",
       "\n",
       "   Poison Resistance Toxic Resistance Bleed Resistance  \n",
       "68                 A                A                D  \n",
       "69                 A                A                D  \n",
       "70                 C                C                C  \n",
       "71                 D                D                D  \n",
       "72                 B                B                D  \n",
       "73                 B                B                D  \n",
       "74                 D                D                A  \n",
       "75                 S                S                S  \n",
       "76                 S                S                S  \n",
       "77                 S                S                S  \n",
       "78                 B                B                D  \n",
       "79               E/C              E/C              E/C  \n",
       "80                 B                B                A  \n",
       "81                 E                E                E  \n",
       "82                ??               ??               ??  \n",
       "83                 D                D                S  \n",
       "84               NaN              NaN              NaN  \n",
       "85                 A                A                A  \n",
       "86               NaN              NaN              NaN  \n",
       "87                ??               ??               ??  "
      ]
     },
     "execution_count": 195,
     "metadata": {},
     "output_type": "execute_result"
    }
   ],
   "source": [
    "enemies.tail(20)"
   ]
  },
  {
   "cell_type": "markdown",
   "metadata": {},
   "source": [
    "____"
   ]
  },
  {
   "cell_type": "markdown",
   "metadata": {},
   "source": [
    "** &#9672; By the Gods! We've kindled our second bonfire! ** <img src=\"https://thumbs.gfycat.com/EarnestActiveAkitainu-size_restricted.gif\"  alt=\"drawing\" width=\"360\">"
   ]
  },
  {
   "cell_type": "markdown",
   "metadata": {},
   "source": [
    "*\"I see there is at least one legend among ye humans\"*"
   ]
  },
  {
   "cell_type": "markdown",
   "metadata": {},
   "source": [
    "## &#9678; Table 2 - Variations (HP, Souls and Location)"
   ]
  },
  {
   "cell_type": "markdown",
   "metadata": {},
   "source": [
    "** As mentioned before, let's continue by getting all the variations of the enemies in a secondary table **"
   ]
  },
  {
   "cell_type": "markdown",
   "metadata": {},
   "source": [
    "** As a standard, we should get one instance to illustrate what we're doing: **"
   ]
  },
  {
   "cell_type": "code",
   "execution_count": 196,
   "metadata": {},
   "outputs": [],
   "source": [
    "url = 'https://darksouls.wiki.fextralife.com/Wheel+Skeleton' #1 enemy\n",
    "\n",
    "html = requests.get(url)"
   ]
  },
  {
   "cell_type": "code",
   "execution_count": 197,
   "metadata": {},
   "outputs": [],
   "source": [
    "bs_obj = BeautifulSoup(html.text, \"lxml\")"
   ]
  },
  {
   "cell_type": "code",
   "execution_count": 198,
   "metadata": {},
   "outputs": [
    {
     "data": {
      "text/plain": [
       "[<td style=\"width: 473px;\"><a class=\"wiki_link\" href=\"/The+catacombs\">The Catacombs</a></td>,\n",
       " <td style=\"width: 157.628px;\">134</td>,\n",
       " <td style=\"width: 35.3715px;\">273</td>,\n",
       " <td style=\"width: 136px;\">400</td>,\n",
       " <td style=\"width: 136px;\">1600</td>,\n",
       " <td style=\"width: 473px;\"><a class=\"wiki_link\" href=\"/Painted+World+of+Ariamis\">Painted World of Ariamis</a></td>,\n",
       " <td style=\"width: 157.628px;\">196</td>,\n",
       " <td style=\"width: 35.3715px;\">310</td>,\n",
       " <td style=\"width: 136px;\">800</td>,\n",
       " <td style=\"width: 136px;\">1600</td>]"
      ]
     },
     "execution_count": 198,
     "metadata": {},
     "output_type": "execute_result"
    }
   ],
   "source": [
    "locations_table_raw =bs_obj.find_all(\"table\", {\"class\": \"wiki_table\"})[-2].find_all('td')\n",
    "locations_table_raw # Here are the attributes we're looking for:"
   ]
  },
  {
   "cell_type": "code",
   "execution_count": 199,
   "metadata": {},
   "outputs": [
    {
     "data": {
      "text/plain": [
       "['The Catacombs',\n",
       " '134',\n",
       " '273',\n",
       " '400',\n",
       " '1600',\n",
       " 'Painted World of Ariamis',\n",
       " '196',\n",
       " '310',\n",
       " '800',\n",
       " '1600']"
      ]
     },
     "execution_count": 199,
     "metadata": {},
     "output_type": "execute_result"
    }
   ],
   "source": [
    "locations_table = [i.text.strip() for i in locations_table_raw]\n",
    "locations_table"
   ]
  },
  {
   "cell_type": "markdown",
   "metadata": {},
   "source": [
    "** Depending on the enemy page, we may have some features missing from features for the 'Locations' table, thus we end up with different number of columns. You can spot this difference when comparing [this](https://darksouls.wiki.fextralife.com/Skeleton) with [that](https://darksouls.wiki.fextralife.com/Wheel+Skeleton). Did you notice how on the sencond link's table the 'Respawn' column is missing? **"
   ]
  },
  {
   "cell_type": "markdown",
   "metadata": {},
   "source": [
    "** That's why we're going to be creating a variable for the number of column: **"
   ]
  },
  {
   "cell_type": "code",
   "execution_count": 200,
   "metadata": {},
   "outputs": [
    {
     "data": {
      "text/plain": [
       "5"
      ]
     },
     "execution_count": 200,
     "metadata": {},
     "output_type": "execute_result"
    }
   ],
   "source": [
    "num_col = len(bs_obj.find_all(\"table\", {\"class\": \"wiki_table\"})[-2].find_all('tr')[-1].find_all('td'))\n",
    "num_col"
   ]
  },
  {
   "cell_type": "markdown",
   "metadata": {},
   "source": [
    "** We should break our locations_table list into sublists separating each instance that we're dealing with **"
   ]
  },
  {
   "cell_type": "code",
   "execution_count": 201,
   "metadata": {},
   "outputs": [
    {
     "data": {
      "text/plain": [
       "[['The Catacombs', '134', '273', '400', '1600'],\n",
       " ['Painted World of Ariamis', '196', '310', '800', '1600']]"
      ]
     },
     "execution_count": 201,
     "metadata": {},
     "output_type": "execute_result"
    }
   ],
   "source": [
    "groups = [locations_table[i:i + num_col] for i in range(0, len(locations_table), num_col)]\n",
    "groups"
   ]
  },
  {
   "cell_type": "markdown",
   "metadata": {},
   "source": [
    "** Now, let's aggregate each information into sublists containing similar information in its respective order: **"
   ]
  },
  {
   "cell_type": "code",
   "execution_count": 202,
   "metadata": {},
   "outputs": [],
   "source": [
    "lista = list(range(num_col))\n",
    "for i in range(num_col):\n",
    "    lista[i] = [k[i] for k in groups]"
   ]
  },
  {
   "cell_type": "code",
   "execution_count": 203,
   "metadata": {},
   "outputs": [
    {
     "data": {
      "text/plain": [
       "[['The Catacombs', 'Painted World of Ariamis'],\n",
       " ['134', '196'],\n",
       " ['273', '310'],\n",
       " ['400', '800'],\n",
       " ['1600', '1600']]"
      ]
     },
     "execution_count": 203,
     "metadata": {},
     "output_type": "execute_result"
    }
   ],
   "source": [
    "lista"
   ]
  },
  {
   "cell_type": "markdown",
   "metadata": {},
   "source": [
    "** We should not forget the character's name... **"
   ]
  },
  {
   "cell_type": "code",
   "execution_count": 204,
   "metadata": {},
   "outputs": [],
   "source": [
    "Name = url.split('/')[-1].strip().replace('+',' ')"
   ]
  },
  {
   "cell_type": "code",
   "execution_count": 205,
   "metadata": {},
   "outputs": [],
   "source": [
    "lista.insert(0,Name)"
   ]
  },
  {
   "cell_type": "code",
   "execution_count": 206,
   "metadata": {},
   "outputs": [
    {
     "data": {
      "text/plain": [
       "['Wheel Skeleton',\n",
       " ['The Catacombs', 'Painted World of Ariamis'],\n",
       " ['134', '196'],\n",
       " ['273', '310'],\n",
       " ['400', '800'],\n",
       " ['1600', '1600']]"
      ]
     },
     "execution_count": 206,
     "metadata": {},
     "output_type": "execute_result"
    }
   ],
   "source": [
    "lista"
   ]
  },
  {
   "cell_type": "markdown",
   "metadata": {},
   "source": [
    "** Here are the attribute labels this time around:**"
   ]
  },
  {
   "cell_type": "code",
   "execution_count": 207,
   "metadata": {},
   "outputs": [],
   "source": [
    "attr_labels = ['Name','Location','HP','NG+','Souls','NG+_s','Respawn']"
   ]
  },
  {
   "cell_type": "code",
   "execution_count": 208,
   "metadata": {},
   "outputs": [],
   "source": [
    "dictionary = dict(zip(attr_labels, lista))"
   ]
  },
  {
   "cell_type": "markdown",
   "metadata": {},
   "source": [
    "** Finaly, our dictionary for each enemy will look something like this: **"
   ]
  },
  {
   "cell_type": "code",
   "execution_count": 209,
   "metadata": {},
   "outputs": [
    {
     "data": {
      "text/plain": [
       "{'Name': 'Wheel Skeleton',\n",
       " 'Location': ['The Catacombs', 'Painted World of Ariamis'],\n",
       " 'HP': ['134', '196'],\n",
       " 'NG+': ['273', '310'],\n",
       " 'Souls': ['400', '800'],\n",
       " 'NG+_s': ['1600', '1600']}"
      ]
     },
     "execution_count": 209,
     "metadata": {},
     "output_type": "execute_result"
    }
   ],
   "source": [
    "dictionary"
   ]
  },
  {
   "cell_type": "code",
   "execution_count": 210,
   "metadata": {},
   "outputs": [
    {
     "data": {
      "text/html": [
       "<div>\n",
       "<style scoped>\n",
       "    .dataframe tbody tr th:only-of-type {\n",
       "        vertical-align: middle;\n",
       "    }\n",
       "\n",
       "    .dataframe tbody tr th {\n",
       "        vertical-align: top;\n",
       "    }\n",
       "\n",
       "    .dataframe thead th {\n",
       "        text-align: right;\n",
       "    }\n",
       "</style>\n",
       "<table border=\"1\" class=\"dataframe\">\n",
       "  <thead>\n",
       "    <tr style=\"text-align: right;\">\n",
       "      <th></th>\n",
       "      <th>Name</th>\n",
       "      <th>Location</th>\n",
       "      <th>HP</th>\n",
       "      <th>NG+</th>\n",
       "      <th>Souls</th>\n",
       "      <th>NG+_s</th>\n",
       "    </tr>\n",
       "  </thead>\n",
       "  <tbody>\n",
       "    <tr>\n",
       "      <th>0</th>\n",
       "      <td>Wheel Skeleton</td>\n",
       "      <td>The Catacombs</td>\n",
       "      <td>134</td>\n",
       "      <td>273</td>\n",
       "      <td>400</td>\n",
       "      <td>1600</td>\n",
       "    </tr>\n",
       "    <tr>\n",
       "      <th>1</th>\n",
       "      <td>Wheel Skeleton</td>\n",
       "      <td>Painted World of Ariamis</td>\n",
       "      <td>196</td>\n",
       "      <td>310</td>\n",
       "      <td>800</td>\n",
       "      <td>1600</td>\n",
       "    </tr>\n",
       "  </tbody>\n",
       "</table>\n",
       "</div>"
      ],
      "text/plain": [
       "             Name                  Location   HP  NG+ Souls NG+_s\n",
       "0  Wheel Skeleton             The Catacombs  134  273   400  1600\n",
       "1  Wheel Skeleton  Painted World of Ariamis  196  310   800  1600"
      ]
     },
     "execution_count": 210,
     "metadata": {},
     "output_type": "execute_result"
    }
   ],
   "source": [
    "pd.DataFrame(dictionary)"
   ]
  },
  {
   "cell_type": "markdown",
   "metadata": {},
   "source": [
    "# We're getting there! Let's consolidate our progress by creating a function"
   ]
  },
  {
   "cell_type": "code",
   "execution_count": 211,
   "metadata": {},
   "outputs": [],
   "source": [
    "def EnemyVariations( url ):\n",
    "    html = requests.get(url)\n",
    "    bs_obj = BeautifulSoup(html.text, \"lxml\")\n",
    "    locations_table_raw =bs_obj.find_all(\"table\", {\"class\": \"wiki_table\"})[-2].find_all('td')\n",
    "    num_col = len(bs_obj.find_all(\"table\", {\"class\": \"wiki_table\"})[-2].find_all('tr')[-1].find_all('td'))\n",
    "    locations_table = [i.text.strip() for i in locations_table_raw]\n",
    "    groups = [locations_table[i:i + num_col] for i in range(0, len(locations_table), num_col)]\n",
    "    ##\n",
    "    lista = list(range(num_col))\n",
    "    for i in range(num_col):\n",
    "        lista[i] = [k[i] for k in groups]\n",
    "    Name = url.split('/')[-1].strip().replace('+',' ')\n",
    "    lista.insert(0,Name)\n",
    "    ##\n",
    "    attr_labels = ['Name','Location','HP','NG+','Souls','NG+_s','Respawn']\n",
    "    dictionary = dict(zip(attr_labels, lista))\n",
    "    \n",
    "    return pd.DataFrame(dictionary)"
   ]
  },
  {
   "cell_type": "code",
   "execution_count": 212,
   "metadata": {},
   "outputs": [],
   "source": [
    "def Get_All_Links(url):\n",
    "    html = requests.get(url)\n",
    "    bs_obj = BeautifulSoup(html.text,'lxml')\n",
    "    links = []\n",
    "    h3 = bs_obj.find_all('h3')[1:9]\n",
    "    for i in h3:\n",
    "        links += ['https://darksouls.wiki.fextralife.com' +j['href'] for j in i.find_next().find_all('a')]\n",
    "    return links"
   ]
  },
  {
   "cell_type": "code",
   "execution_count": null,
   "metadata": {
    "scrolled": true
   },
   "outputs": [],
   "source": [
    "EnemyVariations('https://darksouls.wiki.fextralife.com/Torch+Hollows')"
   ]
  },
  {
   "cell_type": "markdown",
   "metadata": {},
   "source": [
    "____"
   ]
  },
  {
   "cell_type": "code",
   "execution_count": null,
   "metadata": {},
   "outputs": [],
   "source": [
    "url ='https://darksouls.wiki.fextralife.com/Enemies'"
   ]
  },
  {
   "cell_type": "code",
   "execution_count": null,
   "metadata": {},
   "outputs": [],
   "source": [
    "links = Get_All_Links(url)"
   ]
  },
  {
   "cell_type": "code",
   "execution_count": null,
   "metadata": {},
   "outputs": [],
   "source": [
    "variations = pd.DataFrame()\n",
    "for l in links:\n",
    "    variations = pd.concat([variations,EnemyVariations(l)],sort=False)"
   ]
  },
  {
   "cell_type": "code",
   "execution_count": 218,
   "metadata": {},
   "outputs": [
    {
     "data": {
      "text/html": [
       "<div>\n",
       "<style scoped>\n",
       "    .dataframe tbody tr th:only-of-type {\n",
       "        vertical-align: middle;\n",
       "    }\n",
       "\n",
       "    .dataframe tbody tr th {\n",
       "        vertical-align: top;\n",
       "    }\n",
       "\n",
       "    .dataframe thead th {\n",
       "        text-align: right;\n",
       "    }\n",
       "</style>\n",
       "<table border=\"1\" class=\"dataframe\">\n",
       "  <thead>\n",
       "    <tr style=\"text-align: right;\">\n",
       "      <th></th>\n",
       "      <th>Name</th>\n",
       "      <th>Location</th>\n",
       "      <th>HP</th>\n",
       "      <th>NG+</th>\n",
       "      <th>Souls</th>\n",
       "      <th>NG+_s</th>\n",
       "      <th>Respawn</th>\n",
       "    </tr>\n",
       "  </thead>\n",
       "  <tbody>\n",
       "    <tr>\n",
       "      <th>1</th>\n",
       "      <td>The Black Knight</td>\n",
       "      <td>Undead Parish</td>\n",
       "      <td>532</td>\n",
       "      <td>1219</td>\n",
       "      <td>800</td>\n",
       "      <td>3200</td>\n",
       "      <td>No</td>\n",
       "    </tr>\n",
       "    <tr>\n",
       "      <th>2</th>\n",
       "      <td>The Black Knight</td>\n",
       "      <td>Darkroot Basin</td>\n",
       "      <td>603</td>\n",
       "      <td>1225</td>\n",
       "      <td>1800</td>\n",
       "      <td>7200</td>\n",
       "      <td>No</td>\n",
       "    </tr>\n",
       "    <tr>\n",
       "      <th>3</th>\n",
       "      <td>The Black Knight</td>\n",
       "      <td>The Catacombs</td>\n",
       "      <td>710</td>\n",
       "      <td>1299</td>\n",
       "      <td>1200</td>\n",
       "      <td>3600</td>\n",
       "      <td>No</td>\n",
       "    </tr>\n",
       "    <tr>\n",
       "      <th>4</th>\n",
       "      <td>The Black Knight</td>\n",
       "      <td>Northern Undead Asylum</td>\n",
       "      <td>745</td>\n",
       "      <td>1304</td>\n",
       "      <td>1200</td>\n",
       "      <td>3600</td>\n",
       "      <td>No</td>\n",
       "    </tr>\n",
       "    <tr>\n",
       "      <th>5</th>\n",
       "      <td>The Black Knight</td>\n",
       "      <td>Tomb of Giants</td>\n",
       "      <td>887</td>\n",
       "      <td>1393</td>\n",
       "      <td>1200</td>\n",
       "      <td>2400</td>\n",
       "      <td>No</td>\n",
       "    </tr>\n",
       "    <tr>\n",
       "      <th>6</th>\n",
       "      <td>The Black Knight</td>\n",
       "      <td>Kiln of the First Flame</td>\n",
       "      <td>958</td>\n",
       "      <td>1476</td>\n",
       "      <td>2000</td>\n",
       "      <td>4000</td>\n",
       "      <td>Yes</td>\n",
       "    </tr>\n",
       "    <tr>\n",
       "      <th>0</th>\n",
       "      <td>Blowdart Sniper</td>\n",
       "      <td>Blighttown</td>\n",
       "      <td>93</td>\n",
       "      <td>179</td>\n",
       "      <td>500</td>\n",
       "      <td>1500</td>\n",
       "      <td>No</td>\n",
       "    </tr>\n",
       "    <tr>\n",
       "      <th>0</th>\n",
       "      <td>Darkmoon Soldier</td>\n",
       "      <td>Anor Londo</td>\n",
       "      <td>767 (Balder Knight)</td>\n",
       "      <td>1342</td>\n",
       "      <td>5000</td>\n",
       "      <td>15000</td>\n",
       "      <td>Yes</td>\n",
       "    </tr>\n",
       "    <tr>\n",
       "      <th>1</th>\n",
       "      <td>Darkmoon Soldier</td>\n",
       "      <td>Anor Londo</td>\n",
       "      <td>821 (Berenike Knight)</td>\n",
       "      <td>1436</td>\n",
       "      <td>5000</td>\n",
       "      <td>15000</td>\n",
       "      <td>Yes</td>\n",
       "    </tr>\n",
       "    <tr>\n",
       "      <th>0</th>\n",
       "      <td>Possessed Tree</td>\n",
       "      <td>Darkwood Garden</td>\n",
       "      <td>540</td>\n",
       "      <td>1236</td>\n",
       "      <td>180</td>\n",
       "      <td>720</td>\n",
       "      <td>No</td>\n",
       "    </tr>\n",
       "    <tr>\n",
       "      <th>0</th>\n",
       "      <td>Giant Cat</td>\n",
       "      <td>190</td>\n",
       "      <td>190</td>\n",
       "      <td>190</td>\n",
       "      <td>190</td>\n",
       "      <td>161</td>\n",
       "      <td>NaN</td>\n",
       "    </tr>\n",
       "    <tr>\n",
       "      <th>1</th>\n",
       "      <td>Giant Cat</td>\n",
       "      <td>114</td>\n",
       "      <td>143</td>\n",
       "      <td>C</td>\n",
       "      <td>C</td>\n",
       "      <td>C</td>\n",
       "      <td>NaN</td>\n",
       "    </tr>\n",
       "    <tr>\n",
       "      <th>0</th>\n",
       "      <td>Mimic</td>\n",
       "      <td>Sen's Fortress</td>\n",
       "      <td>992</td>\n",
       "      <td>1815</td>\n",
       "      <td>1000</td>\n",
       "      <td>3000</td>\n",
       "      <td>No</td>\n",
       "    </tr>\n",
       "    <tr>\n",
       "      <th>1</th>\n",
       "      <td>Mimic</td>\n",
       "      <td>Anor Londo</td>\n",
       "      <td>1041</td>\n",
       "      <td>1822</td>\n",
       "      <td>2000</td>\n",
       "      <td>6000</td>\n",
       "      <td>No</td>\n",
       "    </tr>\n",
       "    <tr>\n",
       "      <th>2</th>\n",
       "      <td>Mimic</td>\n",
       "      <td>The Duke's Archives</td>\n",
       "      <td>1240</td>\n",
       "      <td>1946</td>\n",
       "      <td>3000</td>\n",
       "      <td>6000</td>\n",
       "      <td>No</td>\n",
       "    </tr>\n",
       "    <tr>\n",
       "      <th>3</th>\n",
       "      <td>Mimic</td>\n",
       "      <td>Oolacile Township</td>\n",
       "      <td>1240</td>\n",
       "      <td>1946</td>\n",
       "      <td>3000</td>\n",
       "      <td>6000</td>\n",
       "      <td>No</td>\n",
       "    </tr>\n",
       "    <tr>\n",
       "      <th>0</th>\n",
       "      <td>The Channeler</td>\n",
       "      <td>Undead Parish</td>\n",
       "      <td>186</td>\n",
       "      <td>465</td>\n",
       "      <td>1000</td>\n",
       "      <td>5000</td>\n",
       "      <td>No</td>\n",
       "    </tr>\n",
       "    <tr>\n",
       "      <th>1</th>\n",
       "      <td>The Channeler</td>\n",
       "      <td>Depths</td>\n",
       "      <td>186</td>\n",
       "      <td>465</td>\n",
       "      <td>1000</td>\n",
       "      <td>5000</td>\n",
       "      <td>No</td>\n",
       "    </tr>\n",
       "    <tr>\n",
       "      <th>2</th>\n",
       "      <td>The Channeler</td>\n",
       "      <td>The Duke's Archives</td>\n",
       "      <td>387</td>\n",
       "      <td>608</td>\n",
       "      <td>800</td>\n",
       "      <td>1600</td>\n",
       "      <td>Yes</td>\n",
       "    </tr>\n",
       "    <tr>\n",
       "      <th>0</th>\n",
       "      <td>Vagrants</td>\n",
       "      <td>On the edge of the cliff where the Crystal Liz...</td>\n",
       "      <td>NaN</td>\n",
       "      <td>NaN</td>\n",
       "      <td>NaN</td>\n",
       "      <td>NaN</td>\n",
       "      <td>NaN</td>\n",
       "    </tr>\n",
       "  </tbody>\n",
       "</table>\n",
       "</div>"
      ],
      "text/plain": [
       "               Name                                           Location  \\\n",
       "1  The Black Knight                                      Undead Parish   \n",
       "2  The Black Knight                                     Darkroot Basin   \n",
       "3  The Black Knight                                      The Catacombs   \n",
       "4  The Black Knight                             Northern Undead Asylum   \n",
       "5  The Black Knight                                     Tomb of Giants   \n",
       "6  The Black Knight                            Kiln of the First Flame   \n",
       "0   Blowdart Sniper                                         Blighttown   \n",
       "0  Darkmoon Soldier                                         Anor Londo   \n",
       "1  Darkmoon Soldier                                         Anor Londo   \n",
       "0    Possessed Tree                                    Darkwood Garden   \n",
       "0         Giant Cat                                                190   \n",
       "1         Giant Cat                                                114   \n",
       "0             Mimic                                     Sen's Fortress   \n",
       "1             Mimic                                         Anor Londo   \n",
       "2             Mimic                                The Duke's Archives   \n",
       "3             Mimic                                  Oolacile Township   \n",
       "0     The Channeler                                      Undead Parish   \n",
       "1     The Channeler                                             Depths   \n",
       "2     The Channeler                                The Duke's Archives   \n",
       "0          Vagrants  On the edge of the cliff where the Crystal Liz...   \n",
       "\n",
       "                      HP   NG+ Souls  NG+_s Respawn  \n",
       "1                    532  1219   800   3200      No  \n",
       "2                    603  1225  1800   7200      No  \n",
       "3                    710  1299  1200   3600      No  \n",
       "4                    745  1304  1200   3600      No  \n",
       "5                    887  1393  1200   2400      No  \n",
       "6                    958  1476  2000   4000     Yes  \n",
       "0                     93   179   500   1500      No  \n",
       "0    767 (Balder Knight)  1342  5000  15000     Yes  \n",
       "1  821 (Berenike Knight)  1436  5000  15000     Yes  \n",
       "0                    540  1236   180    720      No  \n",
       "0                    190   190   190    161     NaN  \n",
       "1                    143     C     C      C     NaN  \n",
       "0                    992  1815  1000   3000      No  \n",
       "1                   1041  1822  2000   6000      No  \n",
       "2                   1240  1946  3000   6000      No  \n",
       "3                   1240  1946  3000   6000      No  \n",
       "0                    186   465  1000   5000      No  \n",
       "1                    186   465  1000   5000      No  \n",
       "2                    387   608   800   1600     Yes  \n",
       "0                    NaN   NaN   NaN    NaN     NaN  "
      ]
     },
     "execution_count": 218,
     "metadata": {},
     "output_type": "execute_result"
    }
   ],
   "source": [
    "variations.tail(20)"
   ]
  },
  {
   "cell_type": "markdown",
   "metadata": {},
   "source": [
    "----"
   ]
  },
  {
   "cell_type": "markdown",
   "metadata": {},
   "source": [
    "## &#9678; 3. Merging Datasets"
   ]
  },
  {
   "cell_type": "code",
   "execution_count": 214,
   "metadata": {
    "scrolled": true
   },
   "outputs": [],
   "source": [
    "complete = pd.merge(enemies, variations, how='inner')"
   ]
  },
  {
   "cell_type": "markdown",
   "metadata": {},
   "source": [
    "** Reordering columns for better visualizatio: **"
   ]
  },
  {
   "cell_type": "code",
   "execution_count": 215,
   "metadata": {},
   "outputs": [],
   "source": [
    "cols = complete.columns.tolist()"
   ]
  },
  {
   "cell_type": "code",
   "execution_count": 216,
   "metadata": {},
   "outputs": [],
   "source": [
    "complete = complete[cols[0:1] + cols[-6:] + cols[1:-6]]"
   ]
  },
  {
   "cell_type": "code",
   "execution_count": 217,
   "metadata": {},
   "outputs": [
    {
     "data": {
      "text/html": [
       "<div>\n",
       "<style scoped>\n",
       "    .dataframe tbody tr th:only-of-type {\n",
       "        vertical-align: middle;\n",
       "    }\n",
       "\n",
       "    .dataframe tbody tr th {\n",
       "        vertical-align: top;\n",
       "    }\n",
       "\n",
       "    .dataframe thead th {\n",
       "        text-align: right;\n",
       "    }\n",
       "</style>\n",
       "<table border=\"1\" class=\"dataframe\">\n",
       "  <thead>\n",
       "    <tr style=\"text-align: right;\">\n",
       "      <th></th>\n",
       "      <th>Name</th>\n",
       "      <th>Location</th>\n",
       "      <th>HP</th>\n",
       "      <th>NG+</th>\n",
       "      <th>Souls</th>\n",
       "      <th>NG+_s</th>\n",
       "      <th>Respawn</th>\n",
       "      <th>Physical Defense</th>\n",
       "      <th>Strike Defense</th>\n",
       "      <th>Slash Defense</th>\n",
       "      <th>Thrust Defense</th>\n",
       "      <th>Magic Defense</th>\n",
       "      <th>Fire Defense</th>\n",
       "      <th>Lightning Defense</th>\n",
       "      <th>Poison Resistance</th>\n",
       "      <th>Toxic Resistance</th>\n",
       "      <th>Bleed Resistance</th>\n",
       "    </tr>\n",
       "  </thead>\n",
       "  <tbody>\n",
       "    <tr>\n",
       "      <th>80</th>\n",
       "      <td>Wheel Skeleton</td>\n",
       "      <td>The Catacombs</td>\n",
       "      <td>134</td>\n",
       "      <td>273</td>\n",
       "      <td>400</td>\n",
       "      <td>1600</td>\n",
       "      <td>NaN</td>\n",
       "      <td>239 ~ 348</td>\n",
       "      <td>167 ~ 244</td>\n",
       "      <td>239 ~ 348</td>\n",
       "      <td>299 ~ 435</td>\n",
       "      <td>183 ~ 267</td>\n",
       "      <td>163 ~ 237</td>\n",
       "      <td>251 ~ 366</td>\n",
       "      <td>S</td>\n",
       "      <td>S</td>\n",
       "      <td>S</td>\n",
       "    </tr>\n",
       "    <tr>\n",
       "      <th>81</th>\n",
       "      <td>Wheel Skeleton</td>\n",
       "      <td>Painted World of Ariamis</td>\n",
       "      <td>196</td>\n",
       "      <td>310</td>\n",
       "      <td>800</td>\n",
       "      <td>1600</td>\n",
       "      <td>NaN</td>\n",
       "      <td>239 ~ 348</td>\n",
       "      <td>167 ~ 244</td>\n",
       "      <td>239 ~ 348</td>\n",
       "      <td>299 ~ 435</td>\n",
       "      <td>183 ~ 267</td>\n",
       "      <td>163 ~ 237</td>\n",
       "      <td>251 ~ 366</td>\n",
       "      <td>S</td>\n",
       "      <td>S</td>\n",
       "      <td>S</td>\n",
       "    </tr>\n",
       "    <tr>\n",
       "      <th>82</th>\n",
       "      <td>Bone Tower</td>\n",
       "      <td>Tomb of Giants</td>\n",
       "      <td>291</td>\n",
       "      <td>479</td>\n",
       "      <td>250</td>\n",
       "      <td>500</td>\n",
       "      <td>Yes</td>\n",
       "      <td>371</td>\n",
       "      <td>260</td>\n",
       "      <td>371</td>\n",
       "      <td>464</td>\n",
       "      <td>287</td>\n",
       "      <td>251</td>\n",
       "      <td>410</td>\n",
       "      <td>S</td>\n",
       "      <td>S</td>\n",
       "      <td>S</td>\n",
       "    </tr>\n",
       "    <tr>\n",
       "      <th>83</th>\n",
       "      <td>Skeleton Baby</td>\n",
       "      <td>Tomb of Giants</td>\n",
       "      <td>36</td>\n",
       "      <td>56</td>\n",
       "      <td>100</td>\n",
       "      <td>200</td>\n",
       "      <td>Yes (Constant)</td>\n",
       "      <td>207</td>\n",
       "      <td>145</td>\n",
       "      <td>207</td>\n",
       "      <td>259</td>\n",
       "      <td>161</td>\n",
       "      <td>142</td>\n",
       "      <td>262</td>\n",
       "      <td>S</td>\n",
       "      <td>S</td>\n",
       "      <td>S</td>\n",
       "    </tr>\n",
       "    <tr>\n",
       "      <th>84</th>\n",
       "      <td>Bat Wing Demon</td>\n",
       "      <td>Anor Londo</td>\n",
       "      <td>419</td>\n",
       "      <td>734</td>\n",
       "      <td>500</td>\n",
       "      <td>1500</td>\n",
       "      <td>Yes</td>\n",
       "      <td>226</td>\n",
       "      <td>226</td>\n",
       "      <td>226</td>\n",
       "      <td>226</td>\n",
       "      <td>216</td>\n",
       "      <td>167</td>\n",
       "      <td>512</td>\n",
       "      <td>C</td>\n",
       "      <td>C</td>\n",
       "      <td>C</td>\n",
       "    </tr>\n",
       "    <tr>\n",
       "      <th>85</th>\n",
       "      <td>Minor Taurus Demon</td>\n",
       "      <td>Demon Ruins</td>\n",
       "      <td>900</td>\n",
       "      <td>1440</td>\n",
       "      <td>1200</td>\n",
       "      <td>2400</td>\n",
       "      <td>Yes</td>\n",
       "      <td>103</td>\n",
       "      <td>103</td>\n",
       "      <td>103</td>\n",
       "      <td>103</td>\n",
       "      <td>88</td>\n",
       "      <td>77</td>\n",
       "      <td>67</td>\n",
       "      <td>B</td>\n",
       "      <td>B</td>\n",
       "      <td>B</td>\n",
       "    </tr>\n",
       "    <tr>\n",
       "      <th>86</th>\n",
       "      <td>Minor Capra Demon</td>\n",
       "      <td>Demon Ruins</td>\n",
       "      <td>589</td>\n",
       "      <td>996</td>\n",
       "      <td>800</td>\n",
       "      <td>2400</td>\n",
       "      <td>Yes</td>\n",
       "      <td>159</td>\n",
       "      <td>159</td>\n",
       "      <td>159</td>\n",
       "      <td>159</td>\n",
       "      <td>127</td>\n",
       "      <td>119</td>\n",
       "      <td>67</td>\n",
       "      <td>A</td>\n",
       "      <td>A</td>\n",
       "      <td>A</td>\n",
       "    </tr>\n",
       "    <tr>\n",
       "      <th>87</th>\n",
       "      <td>Stone Demon</td>\n",
       "      <td>Demon Ruins</td>\n",
       "      <td>196</td>\n",
       "      <td>314</td>\n",
       "      <td>300</td>\n",
       "      <td>600</td>\n",
       "      <td>Yes</td>\n",
       "      <td>435 ~ 456</td>\n",
       "      <td>435 ~ 456</td>\n",
       "      <td>435 ~ 456</td>\n",
       "      <td>435 ~ 456</td>\n",
       "      <td>283 ~ 297</td>\n",
       "      <td>869 ~ 912</td>\n",
       "      <td>869 ~ 912</td>\n",
       "      <td>S</td>\n",
       "      <td>S</td>\n",
       "      <td>S</td>\n",
       "    </tr>\n",
       "    <tr>\n",
       "      <th>88</th>\n",
       "      <td>Stone Demon</td>\n",
       "      <td>Lost Izalith</td>\n",
       "      <td>205</td>\n",
       "      <td>321</td>\n",
       "      <td>300</td>\n",
       "      <td>600</td>\n",
       "      <td>Yes</td>\n",
       "      <td>435 ~ 456</td>\n",
       "      <td>435 ~ 456</td>\n",
       "      <td>435 ~ 456</td>\n",
       "      <td>435 ~ 456</td>\n",
       "      <td>283 ~ 297</td>\n",
       "      <td>869 ~ 912</td>\n",
       "      <td>869 ~ 912</td>\n",
       "      <td>S</td>\n",
       "      <td>S</td>\n",
       "      <td>S</td>\n",
       "    </tr>\n",
       "    <tr>\n",
       "      <th>89</th>\n",
       "      <td>Crow Demon</td>\n",
       "      <td>Painted World of Ariamis</td>\n",
       "      <td>930</td>\n",
       "      <td>1460</td>\n",
       "      <td>1000</td>\n",
       "      <td>2000</td>\n",
       "      <td>Yes</td>\n",
       "      <td>306</td>\n",
       "      <td>306</td>\n",
       "      <td>230</td>\n",
       "      <td>306</td>\n",
       "      <td>231</td>\n",
       "      <td>183</td>\n",
       "      <td>231</td>\n",
       "      <td>C</td>\n",
       "      <td>C</td>\n",
       "      <td>D</td>\n",
       "    </tr>\n",
       "  </tbody>\n",
       "</table>\n",
       "</div>"
      ],
      "text/plain": [
       "                  Name                  Location   HP   NG+ Souls NG+_s  \\\n",
       "80      Wheel Skeleton             The Catacombs  134   273   400  1600   \n",
       "81      Wheel Skeleton  Painted World of Ariamis  196   310   800  1600   \n",
       "82          Bone Tower            Tomb of Giants  291   479   250   500   \n",
       "83       Skeleton Baby            Tomb of Giants   36    56   100   200   \n",
       "84      Bat Wing Demon                Anor Londo  419   734   500  1500   \n",
       "85  Minor Taurus Demon               Demon Ruins  900  1440  1200  2400   \n",
       "86   Minor Capra Demon               Demon Ruins  589   996   800  2400   \n",
       "87         Stone Demon               Demon Ruins  196   314   300   600   \n",
       "88         Stone Demon              Lost Izalith  205   321   300   600   \n",
       "89          Crow Demon  Painted World of Ariamis  930  1460  1000  2000   \n",
       "\n",
       "           Respawn Physical Defense Strike Defense Slash Defense  \\\n",
       "80             NaN        239 ~ 348      167 ~ 244     239 ~ 348   \n",
       "81             NaN        239 ~ 348      167 ~ 244     239 ~ 348   \n",
       "82             Yes              371            260           371   \n",
       "83  Yes (Constant)              207            145           207   \n",
       "84             Yes              226            226           226   \n",
       "85             Yes              103            103           103   \n",
       "86             Yes              159            159           159   \n",
       "87             Yes        435 ~ 456      435 ~ 456     435 ~ 456   \n",
       "88             Yes        435 ~ 456      435 ~ 456     435 ~ 456   \n",
       "89             Yes              306            306           230   \n",
       "\n",
       "   Thrust Defense Magic Defense Fire Defense Lightning Defense  \\\n",
       "80      299 ~ 435     183 ~ 267    163 ~ 237         251 ~ 366   \n",
       "81      299 ~ 435     183 ~ 267    163 ~ 237         251 ~ 366   \n",
       "82            464           287          251               410   \n",
       "83            259           161          142               262   \n",
       "84            226           216          167               512   \n",
       "85            103            88           77                67   \n",
       "86            159           127          119                67   \n",
       "87      435 ~ 456     283 ~ 297    869 ~ 912         869 ~ 912   \n",
       "88      435 ~ 456     283 ~ 297    869 ~ 912         869 ~ 912   \n",
       "89            306           231          183               231   \n",
       "\n",
       "   Poison Resistance Toxic Resistance Bleed Resistance  \n",
       "80                 S                S                S  \n",
       "81                 S                S                S  \n",
       "82                 S                S                S  \n",
       "83                 S                S                S  \n",
       "84                 C                C                C  \n",
       "85                 B                B                B  \n",
       "86                 A                A                A  \n",
       "87                 S                S                S  \n",
       "88                 S                S                S  \n",
       "89                 C                C                D  "
      ]
     },
     "execution_count": 217,
     "metadata": {},
     "output_type": "execute_result"
    }
   ],
   "source": [
    "# Example:\n",
    "complete[80:90]"
   ]
  },
  {
   "cell_type": "markdown",
   "metadata": {},
   "source": [
    "** &#9672; Praise the Sun! You have linked the Fire! **"
   ]
  },
  {
   "cell_type": "markdown",
   "metadata": {},
   "source": [
    "*\"The flow of time itself is convoluted; with heroes centuries old phasing in and out\"*"
   ]
  },
  {
   "cell_type": "markdown",
   "metadata": {},
   "source": [
    "\n",
    "<tr>\n",
    "<td> <img src=\"https://thumbs.gfycat.com/HollowElectricHammerheadshark-size_restricted.gif\" alt=\"Drawing\" style=\"width: 450px;\"/> </td>\n",
    "<td> <img src=\"https://66.media.tumblr.com/3e0446ba78ba444f64450d00cf1efb0d/tumblr_o8izfsEPwf1rf5ar6o1_250.gif\" alt=\"Drawing\" style=\"width: 250px;\"/> </td>\n",
    "</tr>"
   ]
  },
  {
   "cell_type": "markdown",
   "metadata": {},
   "source": [
    "_____"
   ]
  },
  {
   "cell_type": "markdown",
   "metadata": {},
   "source": [
    "*\"Well, I'm going to have myself a little nap. The only thing to do, really, after a nice toast. You are a true friend. Best of luck with your duty.\"*\n"
   ]
  }
 ],
 "metadata": {
  "kernelspec": {
   "display_name": "Python 3",
   "language": "python",
   "name": "python3"
  },
  "language_info": {
   "codemirror_mode": {
    "name": "ipython",
    "version": 3
   },
   "file_extension": ".py",
   "mimetype": "text/x-python",
   "name": "python",
   "nbconvert_exporter": "python",
   "pygments_lexer": "ipython3",
   "version": "3.6.5"
  }
 },
 "nbformat": 4,
 "nbformat_minor": 2
}
